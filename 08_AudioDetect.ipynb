{
 "cells": [
  {
   "cell_type": "code",
   "execution_count": 1,
   "metadata": {},
   "outputs": [],
   "source": [
    "from __future__ import division\n",
    "import AudioLoad\n",
    "import AudioFeatures\n",
    "import AudioActDet\n",
    "import AudioSegmentation\n",
    "import scipy\n",
    "import numpy as np\n",
    "import matplotlib.pyplot as plt\n",
    "import pickle\n",
    "import os\n",
    "import time\n",
    "import pandas as pd\n",
    "%matplotlib inline\n",
    "import datetime"
   ]
  },
  {
   "cell_type": "code",
   "execution_count": 2,
   "metadata": {},
   "outputs": [],
   "source": [
    "def convert_hs(minlist, date, dateformat):\n",
    "    newdatetime = []\n",
    "    for t in minlist:\n",
    "        minute = int(t)\n",
    "        if minute == 60:\n",
    "            minutes = 0\n",
    "            seconds = (t * 60) % 60\n",
    "            newt = \"%d:%02d\" % (minutes, seconds)\n",
    "            strtime = date + newt\n",
    "            s_datetime = datetime.datetime.strptime(strtime, dateformat + '%M:%S') + datetime.timedelta(hours = 1)\n",
    "        else:\n",
    "            minutes = minute\n",
    "            seconds = (t * 60) % 60\n",
    "            newt = \"%d:%02d\" % (minutes, seconds)\n",
    "            strtime = date + newt\n",
    "            s_datetime = datetime.datetime.strptime(strtime, dateformat + '%M:%S')\n",
    "        newdatetime.append(s_datetime)\n",
    "    return newdatetime"
   ]
  },
  {
   "cell_type": "code",
   "execution_count": 3,
   "metadata": {},
   "outputs": [
    {
     "data": {
      "text/plain": [
       "<module 'AudioActDet' from 'AudioActDet.pyc'>"
      ]
     },
     "execution_count": 3,
     "metadata": {},
     "output_type": "execute_result"
    }
   ],
   "source": [
    "reload(AudioLoad)\n",
    "reload(AudioFeatures)\n",
    "reload(AudioActDet)"
   ]
  },
  {
   "cell_type": "code",
   "execution_count": 4,
   "metadata": {},
   "outputs": [],
   "source": [
    "path = \"/Users/dl/GSR/Audio/\"\n",
    "files = [path + i for i in os.listdir(path) \n",
    "         if os.path.isfile(os.path.join(path,i)) and 'KJFK-Twr-Apr-28' in i]"
   ]
  },
  {
   "cell_type": "code",
   "execution_count": null,
   "metadata": {},
   "outputs": [],
   "source": [
    "for j in files:\n",
    "    AudioClass = AudioLoad.AudioLoad(file_list = [j])\n",
    "    FeatureClass = AudioFeatures.AudioFeatures(AudioLoad = AudioClass,\n",
    "                                       nperseg = 512,\n",
    "                                       overlap_rate = 8, \n",
    "                                       nfft = 1024, \n",
    "                                       fbank_hfreq = None,\n",
    "                                       pre_emphasis = True)\n",
    "    features = FeatureClass.FeatureExtraction(highest_order = 2, \n",
    "                                      num_cep = 12, \n",
    "                                      lifting = True, \n",
    "                                      lifting_coef = 22, \n",
    "                                      mean_normalization = True, \n",
    "                                      nshift = 2)\n",
    "    filename = j.replace('/Users/dl/GSR/Audio/', '').replace('.mp3','')\n",
    "    pickle.dump(FeatureClass, open('/Users/dl/GSR/Audio/Feature/' + filename + '.pkl', 'wb'), protocol=2)\n",
    "    np.save('/Users/dl/GSR/Audio/Feature/' + filename, features)"
   ]
  },
  {
   "cell_type": "code",
   "execution_count": null,
   "metadata": {},
   "outputs": [],
   "source": [
    "#np.load('/Users/dl/GSR/Audio/Feature/KJFK-Twr-Apr-28-2017-1800Z.npy')\n",
    "#pickle.load(open('/Users/dl/GSR/Audio/train_201704281830.pkl', 'rb'))"
   ]
  },
  {
   "cell_type": "code",
   "execution_count": null,
   "metadata": {},
   "outputs": [],
   "source": [
    "def vad_xmin(audio_file, time_window = 5):\n",
    "    freq_frame = []\n",
    "    for j in files:\n",
    "        AudioClass = AudioLoad.AudioLoad(file_list = [j])\n",
    "        FeatureClass = AudioFeatures.AudioFeatures(AudioLoad = AudioClass,\n",
    "                                           nperseg = 512,\n",
    "                                           overlap_rate = 8, \n",
    "                                           nfft = 1024, \n",
    "                                           fbank_hfreq = None,\n",
    "                                           pre_emphasis = True)\n",
    "        features = FeatureClass.FeatureExtraction(highest_order = 2, \n",
    "                                          num_cep = 12, \n",
    "                                          lifting = True, \n",
    "                                          lifting_coef = 22, \n",
    "                                          mean_normalization = True, \n",
    "                                          nshift = 2)\n",
    "        VADClass = AudioActDet.AudioActDet(FeatureClass)\n",
    "        sil_seg, silence_seg_2d, idx_act = VADClass.detect_silence(power_threshold = 0,\n",
    "                                             silence_sec = 0.25, \n",
    "                                             mvg_point = 5)\n",
    "\n",
    "        # Create 5-min time interval table\n",
    "        currtime  = datetime.datetime.strptime(j[47:63], '%b-%d-%Y-%H%M')\n",
    "        sta_list = [currtime + datetime.timedelta(minutes=time_window*x) for x in range(0, int(30/time_window))]\n",
    "        end_list = [currtime + datetime.timedelta(minutes=time_window*x) for x in range(1, int(30/time_window + 1))]\n",
    "        freq = pd.DataFrame({'ST': sta_list, 'ED':end_list})\n",
    "\n",
    "        act_rates = []\n",
    "        # Get VAD result\n",
    "        sil_re = silence_seg_2d/VADClass.sec_to_bin\n",
    "        start = [i[1] for i in sil_re if i[1] <= 1800]\n",
    "        end = [i[0] for i in sil_re if i[0] <= 1800]\n",
    "        if len(start) == 0:\n",
    "            act_rates = [0] * int(30/time_window)\n",
    "        else:\n",
    "            end.pop(0)\n",
    "            if len(end) < len(start):\n",
    "                end.append(min(1800, FeatureClass.sound_length))\n",
    "\n",
    "            if j[61:63] == '00':\n",
    "                st = [k/60 for k in start]\n",
    "                ed = [k/60 for k in end]\n",
    "            else:\n",
    "                st = [k/60+30 for k in start]\n",
    "                ed = [k/60+30 for k in end]\n",
    "\n",
    "            on = convert_hs(st,j[47:61],'%b-%d-%Y-%H')\n",
    "            off = convert_hs(ed,j[47:61],'%b-%d-%Y-%H')\n",
    "\n",
    "            vad = pd.DataFrame({'Off': off, 'On': on})\n",
    "\n",
    "            for idx, row in freq.iterrows():\n",
    "                dat_stime = vad[(vad['On'] < row.ED) & (vad['Off'] > row.ST)]\n",
    "                if len(dat_stime) == 0:\n",
    "                    validlen = min(1800, FeatureClass.sound_length)\n",
    "                    validlen_t = convert_hs([int(j[61:63]) + validlen/60],j[47:61],'%b-%d-%Y-%H')[0]\n",
    "                    if row.ST <= validlen_t:\n",
    "                        act_rate = 0\n",
    "                    else:\n",
    "                        act_rate = -1\n",
    "                        print row.ST\n",
    "                else:\n",
    "                    dat_stime = dat_stime.sort_values(by=['On'])\n",
    "                    if dat_stime.iloc[0].On < row.ST:\n",
    "                        dat_stime.iloc[0].On = row.ST\n",
    "                    if dat_stime.iloc[-1].Off > row.ED:\n",
    "                        dat_stime.iloc[-1].Off = row.ED\n",
    "\n",
    "                    dat_stime['Duration'] = dat_stime['Off'] - dat_stime['On']\n",
    "                    act_rate = dat_stime['Duration'].sum() / datetime.timedelta(minutes = time_window)\n",
    "                act_rates.append(act_rate)\n",
    "\n",
    "        freq['AR'] = act_rates\n",
    "        freq = freq[['ST', 'ED', 'AR']]\n",
    "        freq_frame.append(freq)\n",
    "    return freq_frame"
   ]
  },
  {
   "cell_type": "code",
   "execution_count": null,
   "metadata": {},
   "outputs": [],
   "source": [
    "mon_list = ['Jul','Dec']\n",
    "path = \"/Volumes/NewVolume/ATCAudioData/Tower/\""
   ]
  },
  {
   "cell_type": "code",
   "execution_count": null,
   "metadata": {
    "scrolled": true
   },
   "outputs": [],
   "source": [
    "# -1 means that we don't have the audio tape available for that paticular time. \n",
    " # And we can't decide whether it's 0 active rate. The time will print out.\n",
    "# 0 means that for this period, no one talks.\n",
    "for j in mon_list:\n",
    "    files = [path + i for i in os.listdir(path)\n",
    "             if os.path.isfile(os.path.join(path,i)) and j in i]\n",
    "    ar = pd.concat(vad_xmin(files, time_window = 1),ignore_index=True)\n",
    "    ar.to_csv('/Users/dl/GSR/Audio/VAD1min_' + j + '.csv', index = False)"
   ]
  }
 ],
 "metadata": {
  "kernelspec": {
   "display_name": "Python 2",
   "language": "python",
   "name": "python2"
  },
  "language_info": {
   "codemirror_mode": {
    "name": "ipython",
    "version": 2
   },
   "file_extension": ".py",
   "mimetype": "text/x-python",
   "name": "python",
   "nbconvert_exporter": "python",
   "pygments_lexer": "ipython2",
   "version": "2.7.14"
  }
 },
 "nbformat": 4,
 "nbformat_minor": 2
}
