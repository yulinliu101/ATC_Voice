{
 "cells": [
  {
   "cell_type": "code",
   "execution_count": 1,
   "metadata": {
    "collapsed": true
   },
   "outputs": [],
   "source": [
    "from __future__ import division\n",
    "import os\n",
    "import numpy as np\n",
    "import matplotlib.pyplot as plt\n",
    "from pydub import AudioSegment\n",
    "from pydub import scipy_effects\n",
    "from operator import itemgetter\n",
    "from itertools import groupby\n",
    "%matplotlib inline"
   ]
  },
  {
   "cell_type": "code",
   "execution_count": 2,
   "metadata": {
    "collapsed": true
   },
   "outputs": [],
   "source": [
    "def combine_to_range(power, power_threshold, sec_to_bin, min_silence_s):\n",
    "    # power is the matrix produced by specgram\n",
    "    # sec_to_bin is usally bin.shape[0] / audio length(ms)/1000\n",
    "    \n",
    "    idx_range = []\n",
    "    for k, g in groupby(enumerate(np.where(power.sum(axis = 0) <= power_threshold)[0]), lambda (i,x):i-x):\n",
    "        group = map(itemgetter(1), g)\n",
    "        idx_range.append([group[0], group[-1]])\n",
    "    idx_range = np.array(idx_range)\n",
    "    silence_time_range = idx_range[np.where(((idx_range[:,1] \n",
    "                                              - idx_range[:,0])/sec_to_bin) > min_silence_s), :][0]/sec_to_bin\n",
    "    silence_time_duration = silence_time_range[:,1] - silence_time_range[:,0]\n",
    "    silence_time = sum(silence_time_duration)\n",
    "    return silence_time_range, silence_time_duration, silence_time"
   ]
  },
  {
   "cell_type": "code",
   "execution_count": 6,
   "metadata": {
    "collapsed": true
   },
   "outputs": [],
   "source": [
    "def detect_silence(sound, power_threshold, min_silence_s):\n",
    "    # power_threshold is a value that greater than 0. Usually is 1\n",
    "    # min_silence_s is the minimum duration of a silence, in seconds. Usually is 3.\n",
    "    \n",
    "    # Get array of sound\n",
    "    sample_rate = sound.frame_rate\n",
    "    sound_track = sound.get_array_of_samples()\n",
    "    sound_length = sound.duration_seconds\n",
    "    \n",
    "    # Plot specgram and get pxx, freq, bins, im\n",
    "    pxx, freq, bins, im = plt.specgram(sound_track, scale = 'linear', Fs = sample_rate, NFFT = 512, noverlap = 256)\n",
    "    plt.close()\n",
    "#     plt.ylim(0,2000)\n",
    "#     plt.xlabel('time(s)')\n",
    "#     plt.ylabel('Frequency (Hz)')\n",
    "\n",
    "    sec_to_bin = bins.shape[0] / sound_length\n",
    "    \n",
    "    \n",
    "    si_time_duration = combine_to_range(pxx,power_threshold,sec_to_bin, min_silence_s)[1]\n",
    "    active_rate = 1 - combine_to_range(pxx,power_threshold,sec_to_bin, min_silence_s)[2] / sound_length\n",
    "    return si_time_duration, active_rate\n",
    "    "
   ]
  },
  {
   "cell_type": "code",
   "execution_count": null,
   "metadata": {},
   "outputs": [
    {
     "name": "stdout",
     "output_type": "stream",
     "text": [
      "KJFK-Twr-Mar-19-2017-0000Z.mp3\n",
      "KJFK-Twr-Mar-19-2017-0030Z.mp3\n",
      "KJFK-Twr-Mar-19-2017-0100Z.mp3\n",
      "KJFK-Twr-Mar-19-2017-0130Z.mp3\n",
      "KJFK-Twr-Mar-19-2017-0200Z.mp3\n",
      "KJFK-Twr-Mar-19-2017-0300Z.mp3\n",
      "KJFK-Twr-Mar-19-2017-0330Z.mp3\n",
      "KJFK-Twr-Mar-19-2017-0400Z.mp3\n",
      "KJFK-Twr-Mar-19-2017-0430Z.mp3\n",
      "KJFK-Twr-Mar-19-2017-0500Z.mp3\n",
      "KJFK-Twr-Mar-19-2017-0530Z.mp3\n",
      "KJFK-Twr-Mar-19-2017-0600Z.mp3\n",
      "KJFK-Twr-Mar-19-2017-0630Z.mp3\n"
     ]
    }
   ],
   "source": [
    "path = \"/Volumes/NewVolume/ATCAudioData/Tower/\"\n",
    "start_str = \"KJFK-Twr-Mar-19-2017\"\n",
    "prefixed = [filename for filename in os.listdir(path) if filename.startswith(start_str)]\n",
    "si_duration_agg = []\n",
    "active_rates = []\n",
    "for i in prefixed:\n",
    "    print(i)\n",
    "    sound = AudioSegment.from_mp3(path + i)\n",
    "    si_duration, active_rate = detect_silence(sound, 1, 3)\n",
    "    si_duration_agg.append(si_duration.tolist()) # append will produce two arrays in a list and plot in different color. or extend\n",
    "    active_rates.append(active_rate)"
   ]
  },
  {
   "cell_type": "code",
   "execution_count": null,
   "metadata": {
    "collapsed": true
   },
   "outputs": [],
   "source": []
  },
  {
   "cell_type": "code",
   "execution_count": null,
   "metadata": {
    "collapsed": true
   },
   "outputs": [],
   "source": []
  },
  {
   "cell_type": "code",
   "execution_count": 22,
   "metadata": {},
   "outputs": [
    {
     "data": {
      "image/png": "[encoded data removed]",
      "text/plain": [
       "<matplotlib.figure.Figure at 0x1157d9410>"
      ]
     },
     "metadata": {},
     "output_type": "display_data"
    }
   ],
   "source": [
    "plt.hist(si_duration_agg,bins = range(0,int(np.max(si_duration)+20),10))\n",
    "plt.title(start_str[9:])\n",
    "plt.xlabel('Silence Duration(second)')\n",
    "plt.ylabel('Count')\n",
    "plt.ylim(0,25)\n",
    "plt.show()"
   ]
  },
  {
   "cell_type": "code",
   "execution_count": null,
   "metadata": {
    "collapsed": true
   },
   "outputs": [],
   "source": []
  }
 ],
 "metadata": {
  "kernelspec": {
   "display_name": "Python [conda root]",
   "language": "python",
   "name": "conda-root-py"
  },
  "language_info": {
   "codemirror_mode": {
    "name": "ipython",
    "version": 2
   },
   "file_extension": ".py",
   "mimetype": "text/x-python",
   "name": "python",
   "nbconvert_exporter": "python",
   "pygments_lexer": "ipython2",
   "version": "2.7.12"
  }
 },
 "nbformat": 4,
 "nbformat_minor": 1
}
