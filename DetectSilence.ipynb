{
 "cells": [
  {
   "cell_type": "code",
   "execution_count": 6,
   "metadata": {
    "collapsed": true
   },
   "outputs": [],
   "source": [
    "from __future__ import division\n",
    "import os\n",
    "import numpy as np\n",
    "import matplotlib.pyplot as plt\n",
    "from pydub import AudioSegment\n",
    "from pydub import scipy_effects\n",
    "from operator import itemgetter\n",
    "from itertools import groupby, chain\n",
    "# %matplotlib inline"
   ]
  },
  {
   "cell_type": "code",
   "execution_count": 2,
   "metadata": {
    "collapsed": true
   },
   "outputs": [],
   "source": [
    "def combine_to_range(power, power_threshold, sec_to_bin, min_silence_s):\n",
    "    # power is the matrix produced by specgram\n",
    "    # sec_to_bin is usally bin.shape[0] / audio length(ms)/1000\n",
    "    \n",
    "    idx_range = []\n",
    "    for k, g in groupby(enumerate(np.where(power.sum(axis = 0) <= power_threshold)[0]), lambda (i,x):i-x):\n",
    "        group = map(itemgetter(1), g)\n",
    "        idx_range.append([group[0], group[-1]])\n",
    "    idx_range = np.array(idx_range)\n",
    "    silence_time_range = idx_range[np.where(((idx_range[:,1] \n",
    "                                              - idx_range[:,0])/sec_to_bin) > min_silence_s), :][0]/sec_to_bin\n",
    "    silence_time_duration = silence_time_range[:,1] - silence_time_range[:,0]\n",
    "    silence_time = sum(silence_time_duration)\n",
    "    return silence_time_range, silence_time_duration, silence_time"
   ]
  },
  {
   "cell_type": "code",
   "execution_count": 3,
   "metadata": {
    "collapsed": true
   },
   "outputs": [],
   "source": [
    "def detect_silence(sound, power_threshold, min_silence_s):\n",
    "    # power_threshold is a value that greater than 0. Usually is 1\n",
    "    # min_silence_s is the minimum duration of a silence, in seconds. Usually is 3.\n",
    "    \n",
    "    # Get array of sound\n",
    "    sample_rate = sound.frame_rate\n",
    "    sound_track = sound.get_array_of_samples()\n",
    "    sound_length = sound.duration_seconds\n",
    "    \n",
    "    # Plot specgram and get pxx, freq, bins, im\n",
    "    pxx, _, bins, _ = plt.specgram(sound_track, scale = 'linear', Fs = sample_rate, NFFT = 512, noverlap = 256)\n",
    "    plt.clf()\n",
    "    plt.close('all')\n",
    "#     plt.ylim(0,2000)\n",
    "#     plt.xlabel('time(s)')\n",
    "#     plt.ylabel('Frequency (Hz)')\n",
    "\n",
    "    sec_to_bin = bins.shape[0] / sound_length\n",
    "    \n",
    "    \n",
    "    si_time_duration = combine_to_range(pxx,power_threshold,sec_to_bin, min_silence_s)[1]\n",
    "    active_rate = 1 - combine_to_range(pxx,power_threshold,sec_to_bin, min_silence_s)[2] / sound_length\n",
    "    return si_time_duration, active_rate"
   ]
  },
  {
   "cell_type": "code",
   "execution_count": 33,
   "metadata": {
    "collapsed": false,
    "scrolled": true
   },
   "outputs": [
    {
     "name": "stdout",
     "output_type": "stream",
     "text": [
      "KJFK-Twr-Apr-19-2017-0000Z.mp3\n",
      "KJFK-Twr-Apr-19-2017-0030Z.mp3\n",
      "KJFK-Twr-Apr-19-2017-0100Z.mp3\n",
      "KJFK-Twr-Apr-19-2017-0130Z.mp3\n",
      "KJFK-Twr-Apr-19-2017-0200Z.mp3\n",
      "KJFK-Twr-Apr-19-2017-0230Z.mp3\n",
      "KJFK-Twr-Apr-19-2017-0300Z.mp3\n",
      "KJFK-Twr-Apr-19-2017-0330Z.mp3\n",
      "KJFK-Twr-Apr-19-2017-0400Z.mp3\n",
      "KJFK-Twr-Apr-19-2017-0430Z.mp3\n",
      "KJFK-Twr-Apr-19-2017-0500Z.mp3\n",
      "KJFK-Twr-Apr-19-2017-0530Z.mp3\n",
      "KJFK-Twr-Apr-19-2017-0600Z.mp3\n",
      "KJFK-Twr-Apr-19-2017-0630Z.mp3\n",
      "KJFK-Twr-Apr-19-2017-0700Z.mp3\n",
      "KJFK-Twr-Apr-19-2017-0730Z.mp3\n",
      "KJFK-Twr-Apr-19-2017-0800Z.mp3\n",
      "KJFK-Twr-Apr-19-2017-0830Z.mp3\n",
      "KJFK-Twr-Apr-19-2017-0900Z.mp3\n",
      "KJFK-Twr-Apr-19-2017-0930Z.mp3\n",
      "KJFK-Twr-Apr-19-2017-1000Z.mp3\n",
      "KJFK-Twr-Apr-19-2017-1030Z.mp3\n",
      "KJFK-Twr-Apr-19-2017-1100Z.mp3\n",
      "KJFK-Twr-Apr-19-2017-1130Z.mp3\n",
      "KJFK-Twr-Apr-19-2017-1200Z.mp3\n",
      "KJFK-Twr-Apr-19-2017-1230Z.mp3\n",
      "KJFK-Twr-Apr-19-2017-1300Z.mp3\n",
      "KJFK-Twr-Apr-19-2017-1330Z.mp3\n",
      "KJFK-Twr-Apr-19-2017-1400Z.mp3\n",
      "KJFK-Twr-Apr-19-2017-1430Z.mp3\n",
      "KJFK-Twr-Apr-19-2017-1500Z.mp3\n",
      "KJFK-Twr-Apr-19-2017-1530Z.mp3\n",
      "KJFK-Twr-Apr-19-2017-1600Z.mp3\n",
      "KJFK-Twr-Apr-19-2017-1630Z.mp3\n",
      "KJFK-Twr-Apr-19-2017-1700Z.mp3\n",
      "KJFK-Twr-Apr-19-2017-1730Z.mp3\n",
      "KJFK-Twr-Apr-19-2017-1800Z.mp3\n",
      "KJFK-Twr-Apr-19-2017-1830Z.mp3\n",
      "KJFK-Twr-Apr-19-2017-1900Z.mp3\n",
      "KJFK-Twr-Apr-19-2017-1930Z.mp3\n",
      "KJFK-Twr-Apr-19-2017-2000Z.mp3\n",
      "KJFK-Twr-Apr-19-2017-2030Z.mp3\n",
      "KJFK-Twr-Apr-19-2017-2100Z.mp3\n",
      "KJFK-Twr-Apr-19-2017-2130Z.mp3\n",
      "KJFK-Twr-Apr-19-2017-2200Z.mp3\n",
      "KJFK-Twr-Apr-19-2017-2230Z.mp3\n",
      "KJFK-Twr-Apr-19-2017-2300Z.mp3\n",
      "KJFK-Twr-Apr-19-2017-2330Z.mp3\n"
     ]
    }
   ],
   "source": [
    "path = os.getcwd() + \"/AudioDownload/Tower/\"\n",
    "start_str = \"KJFK-Twr-Apr-19-2017\"\n",
    "prefixed = [filename for filename in os.listdir(path) if filename.startswith(start_str)]\n",
    "si_duration_agg = []\n",
    "active_rates = []\n",
    "for i in prefixed:\n",
    "    print(i)\n",
    "    sound = AudioSegment.from_mp3(path + i)\n",
    "    si_duration, active_rate = detect_silence(sound, 1, 3)\n",
    "    si_duration_agg.append(si_duration.tolist())\n",
    "    active_rates.append(active_rate)"
   ]
  },
  {
   "cell_type": "code",
   "execution_count": 47,
   "metadata": {
    "collapsed": false
   },
   "outputs": [],
   "source": [
    "daily_gap = list(chain.from_iterable(si_duration_agg))\n",
    "plt.hist(daily_gap, bins = range(0, min(int(max(daily_gap))+20, 180), 10))\n",
    "plt.title('Histogram of silence duration for ' + start_str[9:])\n",
    "plt.xlabel('Silence Duration(second)')\n",
    "plt.ylabel('Count')\n",
    "plt.ylim(0,1200)\n",
    "plt.show()"
   ]
  },
  {
   "cell_type": "code",
   "execution_count": 46,
   "metadata": {
    "collapsed": false
   },
   "outputs": [],
   "source": [
    "plt.plot(np.linspace(0,24,len(active_rates)), active_rates)\n",
    "plt.title('Active Rate of ' + start_str[9:])\n",
    "plt.xticks(range(25), range(0,25))\n",
    "plt.xlabel('UTC Hour')\n",
    "plt.ylabel('Active Rate')\n",
    "# plt.ylim(0,25)\n",
    "plt.show()"
   ]
  }
 ],
 "metadata": {
  "kernelspec": {
   "display_name": "Python 2",
   "language": "python",
   "name": "python2"
  },
  "language_info": {
   "codemirror_mode": {
    "name": "ipython",
    "version": 2
   },
   "file_extension": ".py",
   "mimetype": "text/x-python",
   "name": "python",
   "nbconvert_exporter": "python",
   "pygments_lexer": "ipython2",
   "version": "2.7.11"
  }
 },
 "nbformat": 4,
 "nbformat_minor": 0
}
