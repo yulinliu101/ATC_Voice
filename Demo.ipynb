{
 "cells": [
  {
   "cell_type": "markdown",
   "metadata": {},
   "source": [
    "# Demo ProcessAudio.py"
   ]
  },
  {
   "cell_type": "code",
   "execution_count": 1,
   "metadata": {},
   "outputs": [
    {
     "data": {
      "text/plain": [
       "<module 'ProcessAudio' from 'ProcessAudio.pyc'>"
      ]
     },
     "execution_count": 1,
     "metadata": {},
     "output_type": "execute_result"
    }
   ],
   "source": [
    "import ProcessAudio\n",
    "%matplotlib inline"
   ]
  },
  {
   "cell_type": "code",
   "execution_count": null,
   "metadata": {
    "collapsed": true
   },
   "outputs": [],
   "source": [
    "reload(ProcessAudio)"
   ]
  },
  {
   "cell_type": "code",
   "execution_count": 2,
   "metadata": {},
   "outputs": [
    {
     "name": "stdout",
     "output_type": "stream",
     "text": [
      "Analyzed File Type and Date: KJFK-Twr-Apr-19-2017\n",
      "Duration of the sample audio: 1904.01\n",
      "Sampling rate of the sample audio: 22050\n"
     ]
    }
   ],
   "source": [
    "a = ProcessAudio.DetectAudioActivity(Anal_Sample_Time=['1800Z'], combine_sample=True)"
   ]
  },
  {
   "cell_type": "code",
   "execution_count": 3,
   "metadata": {},
   "outputs": [
    {
     "name": "stderr",
     "output_type": "stream",
     "text": [
      "ProcessAudio.py:168: RuntimeWarning: divide by zero encountered in log10\n",
      "  Zxx = np.flipud(10. * np.log10(Pxx))\n",
      "E:\\Anaconda\\Anaconda\\lib\\site-packages\\matplotlib\\collections.py:590: FutureWarning: elementwise comparison failed; returning scalar instead, but in the future will perform elementwise comparison\n",
      "  if self._edgecolors == str('face'):\n"
     ]
    }
   ],
   "source": [
    "out = a.VisualizeSampleVoice(end_sec=30, sum_psd=True)"
   ]
  },
  {
   "cell_type": "code",
   "execution_count": 8,
   "metadata": {},
   "outputs": [
    {
     "name": "stdout",
     "output_type": "stream",
     "text": [
      "Detect audio activity on the audio sample\n",
      "-----------Processing-------------\n",
      "Finished\n"
     ]
    }
   ],
   "source": [
    "test_sample = a.DetectActivity(anal_source='sample', pwr_thres = 0.005, min_sil_sec = 3)"
   ]
  },
  {
   "cell_type": "code",
   "execution_count": 9,
   "metadata": {},
   "outputs": [
    {
     "data": {
      "text/plain": [
       "[0.45116954072050541]"
      ]
     },
     "execution_count": 9,
     "metadata": {},
     "output_type": "execute_result"
    }
   ],
   "source": [
    "test_sample[2]"
   ]
  },
  {
   "cell_type": "code",
   "execution_count": null,
   "metadata": {},
   "outputs": [
    {
     "name": "stdout",
     "output_type": "stream",
     "text": [
      "Detect audio activity on the daily level\n",
      "Processing KJFK-Twr-Apr-19-2017-0000Z.mp3, elapsed time 0.00\n",
      "Processing KJFK-Twr-Apr-19-2017-0030Z.mp3, elapsed time 10.48\n",
      "Processing KJFK-Twr-Apr-19-2017-0100Z.mp3, elapsed time 20.92\n",
      "Processing KJFK-Twr-Apr-19-2017-0130Z.mp3, elapsed time 31.20\n"
     ]
    }
   ],
   "source": [
    "test_daily = a.DetectActivity(anal_source='daily', pwr_thres = 0.005, min_sil_sec = 3)"
   ]
  }
 ],
 "metadata": {
  "kernelspec": {
   "display_name": "Python 2",
   "language": "python",
   "name": "python2"
  },
  "language_info": {
   "codemirror_mode": {
    "name": "ipython",
    "version": 2
   },
   "file_extension": ".py",
   "mimetype": "text/x-python",
   "name": "python",
   "nbconvert_exporter": "python",
   "pygments_lexer": "ipython2",
   "version": "2.7.11"
  }
 },
 "nbformat": 4,
 "nbformat_minor": 1
}
